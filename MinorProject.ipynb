from tkinter import *
from PIL import ImageTk,Image
from tkinter import messagebox
import os
from subprocess import call
 
# Designing window for registration
 
def register():
    global register_screen
    register_screen = Toplevel(main_screen)
    register_screen.title("Register")
    register_screen.geometry('350x500')
    register_screen.iconbitmap('favicon.ico')
    register_screen.configure(background='#0096DC')
 
    global username
    global password
    global username_entry
    global password_entry
    username = StringVar()
    password = StringVar()
 
    Label(register_screen, text="Please enter details below", bg='#0096DC',fg='white',font=('verdana',17)).pack()
    Label(register_screen, text="",bg='#0096DC').pack(pady=(20,5))
    username_lable = Label(register_screen, text="Username * ",bg='#0096DC',fg='white',font=('verdana',10))
    username_lable.pack(pady=(20,5))
    username_entry = Entry(register_screen, textvariable=username,width=50)
    username_entry.pack(pady=(20,5))
    password_lable = Label(register_screen, text="Password * ",bg='#0096DC',fg='white',font=('verdana',10))
    password_lable.pack(pady=(20,5))
    password_entry = Entry(register_screen, textvariable=password, show='*',width=50)
    password_entry.pack(pady=(20,5))
    Label(register_screen, text="",bg='#0096DC',fg='white',font=('verdana',10)).pack(pady=(20,5))
    Button(register_screen, text="Register", width=10, height=1, bg='white', command = register_user).pack(pady=(20,5))
 
 
# Designing window for login 
 
def login():
    global login_screen
    login_screen = Toplevel(main_screen)
    login_screen.title("Login")
    login_screen.geometry('350x500')
    login_screen.iconbitmap('favicon.ico')
    login_screen.configure(background='#0096DC')
    Label(login_screen, text="Please enter details below to login").pack()
    Label(login_screen, text="",bg='#0096DC').pack()
 
    global username_verify
    global password_verify
 
    username_verify = StringVar()
    password_verify = StringVar()
 
    global username_login_entry
    global password_login_entry
 
    Label(login_screen, text="Username * ").pack()
    username_login_entry = Entry(login_screen, textvariable=username_verify)
    username_login_entry.pack()
    Label(login_screen, text="").pack()
    Label(login_screen, text="Password * ").pack()
    password_login_entry = Entry(login_screen, textvariable=password_verify, show= '*')
    password_login_entry.pack()
    Label(login_screen, text="",bg='#0096DC').pack()
    Button(login_screen, text="Login", width=10, height=1, command = login_verify).pack()
 
# Implementing event on register button
 
def register_user():
 
    username_info = username.get()
    password_info = password.get()
 
    file = open(username_info, "w")
    file.write(username_info + "\n")
    file.write(password_info)
    file.close()
 
    username_entry.delete(0, END)
    password_entry.delete(0, END)
 
    Label(register_screen, text="Registration Success", fg="green", font=("calibri", 11)).pack()
 
# Implementing event on login button 
 
def login_verify():
    username1 = username_verify.get()
    password1 = password_verify.get()
    username_login_entry.delete(0, END)
    password_login_entry.delete(0, END)
 
    list_of_files = os.listdir()
    if username1 in list_of_files:
        file1 = open(username1, "r")
        verify = file1.read().splitlines()
        if password1 in verify:
            login_sucess()
 
        else:
            password_not_recognised()
 
    else:
        user_not_found()
 
# Designing popup for login success
 
def login_sucess():
    global login_success_screen
    login_success_screen = Toplevel(login_screen)
    login_success_screen.title("Success")
    login_success_screen.geometry('350x500')
    login_success.iconbitmap('favicon.ico')
    login_success.configure(background='#0096DC')
    Label(login_success_screen, text="Login Success").pack()
    Button(login_success_screen, text="OK", command=delete_login_success).pack()
 
# Designing popup for login invalid password
 
def password_not_recognised():
    global password_not_recog_screen
    password_not_recog_screen = Toplevel(login_screen)
    password_not_recog_screen.title("Success")
    password_not_recog_screen.geometry('350x500')
    password_not_recog_screen.iconbitmap('favicon.ico')
    password_not_recog_screen.configure(background='#0096DC')
    Label(password_not_recog_screen, text="Invalid Password ").pack()
    Button(password_not_recog_screen, text="OK", command=delete_password_not_recognised).pack()
 
# Designing popup for user not found
 
def user_not_found():
    global user_not_found_screen
    user_not_found_screen = Toplevel(login_screen)
    user_not_found_screen.title("Success")
    user_not_found_screen.geometry('350x500')
    user_not_found_screen.iconbitmap('favicon.ico')
    user_not_found_screen.configure(background='#0096DC')
    Label(user_not_found_screen, text="User Not Found").pack()
    Button(user_not_found_screen, text="OK", command=delete_user_not_found_screen).pack()
 
# Deleting popups
 
def delete_login_success():
    login_success_screen.destroy()
 
 
def delete_password_not_recognised():
    password_not_recog_screen.destroy()
 
 
def delete_user_not_found_screen():
    user_not_found_screen.destroy()
 
 
# Designing Main(first) window
 
def main_account_screen():
    global main_screen
    main_screen = Tk()
    main_screen.geometry('350x500')
    main_screen.title("Account Login")
    main_screen.iconbitmap('favicon.ico')
    main_screen.configure(background='#0096DC')
    img = Image.open('./img1.png')
    resized_img = img.resize((90,90))
    img = ImageTk.PhotoImage(resized_img)
    img_label = Label(main_screen,image=img)
    img_label.pack(pady=(10,10))
    text_label = Label(main_screen,text='EmpowerPy',fg='white',bg='#0096DC')
    text_label.pack()
    text_label.config(font=('verdana',24))
    Label(text="Select Your Choice",width="300", height="2", font=("Calibri", 13)).pack()
    Label(text="",bg='#0096DC').pack(pady=(20,5))
    Button(text="Login", height="2", width="30", command = login).pack()
    Label(text="",bg='#0096DC').pack(pady=(20,5))
    Button(text="Register", height="2", width="30", command=register).pack()
 
    main_screen.mainloop()
 
 
main_account_screen()
 

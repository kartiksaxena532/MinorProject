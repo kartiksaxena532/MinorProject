{
 "cells": [
  {
   "cell_type": "code",
   "execution_count": 1,
   "id": "a62fa907-58fb-4321-be15-d6b80083c363",
   "metadata": {},
   "outputs": [
    {
     "ename": "NameError",
     "evalue": "name 'root' is not defined",
     "output_type": "error",
     "traceback": [
      "\u001b[1;31m---------------------------------------------------------------------------\u001b[0m",
      "\u001b[1;31mNameError\u001b[0m                                 Traceback (most recent call last)",
      "Cell \u001b[1;32mIn[1], line 57\u001b[0m\n\u001b[0;32m     54\u001b[0m password_input\u001b[38;5;241m.\u001b[39mpack(ipady\u001b[38;5;241m=\u001b[39m\u001b[38;5;241m6\u001b[39m,pady\u001b[38;5;241m=\u001b[39m(\u001b[38;5;241m1\u001b[39m,\u001b[38;5;241m15\u001b[39m))\n\u001b[0;32m     56\u001b[0m new_btn\u001b[38;5;241m=\u001b[39mPhotoImage(file\u001b[38;5;241m=\u001b[39m\u001b[38;5;124m'\u001b[39m\u001b[38;5;124m./button.png\u001b[39m\u001b[38;5;124m'\u001b[39m)\n\u001b[1;32m---> 57\u001b[0m login_btn \u001b[38;5;241m=\u001b[39m Button(\u001b[43mroot\u001b[49m,image\u001b[38;5;241m=\u001b[39mnew_btn,command\u001b[38;5;241m=\u001b[39mhandle_login,borderwidth\u001b[38;5;241m=\u001b[39m\u001b[38;5;241m0\u001b[39m,bg\u001b[38;5;241m=\u001b[39m\u001b[38;5;124m'\u001b[39m\u001b[38;5;124m#0096DC\u001b[39m\u001b[38;5;124m'\u001b[39m)\n\u001b[0;32m     58\u001b[0m login_btn\u001b[38;5;241m.\u001b[39mpack(pady\u001b[38;5;241m=\u001b[39m(\u001b[38;5;241m5\u001b[39m,\u001b[38;5;241m10\u001b[39m))\n\u001b[0;32m     59\u001b[0m login_btn\u001b[38;5;241m.\u001b[39mconfig(font\u001b[38;5;241m=\u001b[39m(\u001b[38;5;124m'\u001b[39m\u001b[38;5;124mverdana\u001b[39m\u001b[38;5;124m'\u001b[39m,\u001b[38;5;241m10\u001b[39m))\n",
      "\u001b[1;31mNameError\u001b[0m: name 'root' is not defined"
     ]
    }
   ],
   "source": [
    "from tkinter import *\n",
    "from PIL import ImageTk,Image\n",
    "from tkinter import messagebox\n",
    "import os\n",
    "from subprocess import call\n",
    "\n",
    "def handle_login():\n",
    "    email = email_input.get()\n",
    "    password = password_input.get()\n",
    "    if email == 'test' and password == 'test':\n",
    "        messagebox.showinfo('Yayyy','Login Successful')\n",
    "   \n",
    "            \n",
    "    elif  email == 'richa.gupta@mail.jiit.ac.in' and password == 'jiitlogin':\n",
    "        messagebox.showinfo('Yayyy','Login Successful')\n",
    "    elif  email == '21102030@mail.jiit.ac.in' and password == 'jiitlogin':\n",
    "        messagebox.showinfo('Yayyy','Login Successful')\n",
    "    elif  email == 'user@mail.jiit.ac.in' and password == 'jiitlogin':\n",
    "        messagebox.showinfo('Yayyy','Login Successful')\n",
    "    elif  email == 'test@mail.jiit.ac.in' and password == 'jiitlogin':\n",
    "        messagebox.showinfo('Yayyy','Login Successful')\n",
    "        \n",
    "    else:\n",
    "        messagebox.showerror('Error','Login Failed')\n",
    "\n",
    "screen = Tk()\n",
    "screen.title('Login Form')\n",
    "screen.iconbitmap('favicon.ico')\n",
    "screen.geometry('350x500')\n",
    "\n",
    "screen.configure(background='#0096DC')\n",
    "img = Image.open('./img1.png')\n",
    "resized_img = img.resize((90,90))\n",
    "img = ImageTk.PhotoImage(resized_img)\n",
    "img_label = Label(screen,image=img)\n",
    "img_label.pack(pady=(10,10))\n",
    "text_label = Label(screen,text='EmpowerPy',fg='white',bg='#0096DC')\n",
    "text_label.pack()\n",
    "text_label.config(font=('verdana',24))\n",
    "\n",
    "email_label = Label(screen,text='Enter College Email',fg='white',bg='#0096DC')\n",
    "email_label.pack(pady=(20,5))\n",
    "email_label.config(font=('verdana',12))\n",
    "\n",
    "email_input = Entry(screen,width=50)\n",
    "email_input.pack(ipady=6,pady=(1,15))\n",
    "\n",
    "password_label = Label(screen,text='Enter Password',fg='white',bg='#0096DC')\n",
    "password_label.pack(pady=(20,5))\n",
    "password_label.config(font=('verdana',12))\n",
    "\n",
    "password_input = Entry(screen,width=50)\n",
    "password_input.pack(ipady=6,pady=(1,15))\n",
    "\n",
    "new_btn=PhotoImage(file='./button.png')\n",
    "login_btn = Button(root,image=new_btn,command=handle_login,borderwidth=0,bg='#0096DC')\n",
    "login_btn.pack(pady=(5,10))\n",
    "login_btn.config(font=('verdana',10))\n",
    "screen.mainloop()\n"
   ]
  },
  {
   "cell_type": "code",
   "execution_count": null,
   "id": "91aa5d11-4344-45b5-954b-cc36d0fdafdb",
   "metadata": {},
   "outputs": [],
   "source": []
  }
 ],
 "metadata": {
  "kernelspec": {
   "display_name": "Python 3 (ipykernel)",
   "language": "python",
   "name": "python3"
  },
  "language_info": {
   "codemirror_mode": {
    "name": "ipython",
    "version": 3
   },
   "file_extension": ".py",
   "mimetype": "text/x-python",
   "name": "python",
   "nbconvert_exporter": "python",
   "pygments_lexer": "ipython3",
   "version": "3.11.5"
  }
 },
 "nbformat": 4,
 "nbformat_minor": 5
}

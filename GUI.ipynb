{
 "cells": [
  {
   "cell_type": "code",
   "execution_count": 3,
   "id": "a62fa907-58fb-4321-be15-d6b80083c363",
   "metadata": {},
   "outputs": [
    {
     "ename": "TclError",
     "evalue": "image \"pyimage3\" doesn't exist",
     "output_type": "error",
     "traceback": [
      "\u001b[1;31m---------------------------------------------------------------------------\u001b[0m",
      "\u001b[1;31mTclError\u001b[0m                                  Traceback (most recent call last)",
      "Cell \u001b[1;32mIn[3], line 38\u001b[0m\n\u001b[0;32m     36\u001b[0m resized_img \u001b[38;5;241m=\u001b[39m img\u001b[38;5;241m.\u001b[39mresize((\u001b[38;5;241m90\u001b[39m,\u001b[38;5;241m90\u001b[39m))\n\u001b[0;32m     37\u001b[0m img \u001b[38;5;241m=\u001b[39m ImageTk\u001b[38;5;241m.\u001b[39mPhotoImage(resized_img)\n\u001b[1;32m---> 38\u001b[0m img_label \u001b[38;5;241m=\u001b[39m \u001b[43mLabel\u001b[49m\u001b[43m(\u001b[49m\u001b[43mscreen\u001b[49m\u001b[43m,\u001b[49m\u001b[43mimage\u001b[49m\u001b[38;5;241;43m=\u001b[39;49m\u001b[43mimg\u001b[49m\u001b[43m)\u001b[49m\n\u001b[0;32m     39\u001b[0m img_label\u001b[38;5;241m.\u001b[39mpack(pady\u001b[38;5;241m=\u001b[39m(\u001b[38;5;241m10\u001b[39m,\u001b[38;5;241m10\u001b[39m))\n\u001b[0;32m     40\u001b[0m text_label \u001b[38;5;241m=\u001b[39m Label(screen,text\u001b[38;5;241m=\u001b[39m\u001b[38;5;124m'\u001b[39m\u001b[38;5;124mEmpowerPy\u001b[39m\u001b[38;5;124m'\u001b[39m,fg\u001b[38;5;241m=\u001b[39m\u001b[38;5;124m'\u001b[39m\u001b[38;5;124mwhite\u001b[39m\u001b[38;5;124m'\u001b[39m,bg\u001b[38;5;241m=\u001b[39m\u001b[38;5;124m'\u001b[39m\u001b[38;5;124m#0096DC\u001b[39m\u001b[38;5;124m'\u001b[39m)\n",
      "File \u001b[1;32mC:\\Python311\\Lib\\tkinter\\__init__.py:3214\u001b[0m, in \u001b[0;36mLabel.__init__\u001b[1;34m(self, master, cnf, **kw)\u001b[0m\n\u001b[0;32m   3196\u001b[0m \u001b[38;5;28;01mdef\u001b[39;00m \u001b[38;5;21m__init__\u001b[39m(\u001b[38;5;28mself\u001b[39m, master\u001b[38;5;241m=\u001b[39m\u001b[38;5;28;01mNone\u001b[39;00m, cnf\u001b[38;5;241m=\u001b[39m{}, \u001b[38;5;241m*\u001b[39m\u001b[38;5;241m*\u001b[39mkw):\n\u001b[0;32m   3197\u001b[0m \u001b[38;5;250m    \u001b[39m\u001b[38;5;124;03m\"\"\"Construct a label widget with the parent MASTER.\u001b[39;00m\n\u001b[0;32m   3198\u001b[0m \n\u001b[0;32m   3199\u001b[0m \u001b[38;5;124;03m    STANDARD OPTIONS\u001b[39;00m\n\u001b[1;32m   (...)\u001b[0m\n\u001b[0;32m   3212\u001b[0m \n\u001b[0;32m   3213\u001b[0m \u001b[38;5;124;03m    \"\"\"\u001b[39;00m\n\u001b[1;32m-> 3214\u001b[0m     \u001b[43mWidget\u001b[49m\u001b[38;5;241;43m.\u001b[39;49m\u001b[38;5;21;43m__init__\u001b[39;49m\u001b[43m(\u001b[49m\u001b[38;5;28;43mself\u001b[39;49m\u001b[43m,\u001b[49m\u001b[43m \u001b[49m\u001b[43mmaster\u001b[49m\u001b[43m,\u001b[49m\u001b[43m \u001b[49m\u001b[38;5;124;43m'\u001b[39;49m\u001b[38;5;124;43mlabel\u001b[39;49m\u001b[38;5;124;43m'\u001b[39;49m\u001b[43m,\u001b[49m\u001b[43m \u001b[49m\u001b[43mcnf\u001b[49m\u001b[43m,\u001b[49m\u001b[43m \u001b[49m\u001b[43mkw\u001b[49m\u001b[43m)\u001b[49m\n",
      "File \u001b[1;32mC:\\Python311\\Lib\\tkinter\\__init__.py:2628\u001b[0m, in \u001b[0;36mBaseWidget.__init__\u001b[1;34m(self, master, widgetName, cnf, kw, extra)\u001b[0m\n\u001b[0;32m   2626\u001b[0m \u001b[38;5;28;01mfor\u001b[39;00m k, v \u001b[38;5;129;01min\u001b[39;00m classes:\n\u001b[0;32m   2627\u001b[0m     \u001b[38;5;28;01mdel\u001b[39;00m cnf[k]\n\u001b[1;32m-> 2628\u001b[0m \u001b[38;5;28;43mself\u001b[39;49m\u001b[38;5;241;43m.\u001b[39;49m\u001b[43mtk\u001b[49m\u001b[38;5;241;43m.\u001b[39;49m\u001b[43mcall\u001b[49m\u001b[43m(\u001b[49m\n\u001b[0;32m   2629\u001b[0m \u001b[43m    \u001b[49m\u001b[43m(\u001b[49m\u001b[43mwidgetName\u001b[49m\u001b[43m,\u001b[49m\u001b[43m \u001b[49m\u001b[38;5;28;43mself\u001b[39;49m\u001b[38;5;241;43m.\u001b[39;49m\u001b[43m_w\u001b[49m\u001b[43m)\u001b[49m\u001b[43m \u001b[49m\u001b[38;5;241;43m+\u001b[39;49m\u001b[43m \u001b[49m\u001b[43mextra\u001b[49m\u001b[43m \u001b[49m\u001b[38;5;241;43m+\u001b[39;49m\u001b[43m \u001b[49m\u001b[38;5;28;43mself\u001b[39;49m\u001b[38;5;241;43m.\u001b[39;49m\u001b[43m_options\u001b[49m\u001b[43m(\u001b[49m\u001b[43mcnf\u001b[49m\u001b[43m)\u001b[49m\u001b[43m)\u001b[49m\n\u001b[0;32m   2630\u001b[0m \u001b[38;5;28;01mfor\u001b[39;00m k, v \u001b[38;5;129;01min\u001b[39;00m classes:\n\u001b[0;32m   2631\u001b[0m     k\u001b[38;5;241m.\u001b[39mconfigure(\u001b[38;5;28mself\u001b[39m, v)\n",
      "\u001b[1;31mTclError\u001b[0m: image \"pyimage3\" doesn't exist"
     ]
    }
   ],
   "source": [
    "from tkinter import *\n",
    "from PIL import ImageTk,Image\n",
    "from tkinter import messagebox\n",
    "import os\n",
    "from subprocess import call\n",
    "\n",
    "def handle_login():\n",
    "    email = email_input.get()\n",
    "    password = password_input.get()\n",
    "\n",
    "    if email == 'test' and password == 'test':\n",
    "        essagebox.showinfo('Yayyy','Login Successful')\n",
    "   \n",
    "            \n",
    "    elif  email == 'richa.gupta@mail.jiit.ac.in' and password == 'jiitlogin':\n",
    "        messagebox.showinfo('Yayyy','Login Successful')\n",
    "    elif  email == '21102030@mail.jiit.ac.in' and password == 'jiitlogin':\n",
    "        messagebox.showinfo('Yayyy','Login Successful')\n",
    "    elif  email == 'user@mail.jiit.ac.in' and password == 'jiitlogin':\n",
    "        messagebox.showinfo('Yayyy','Login Successful')\n",
    "    elif  email == 'test@mail.jiit.ac.in' and password == 'jiitlogin':\n",
    "        messagebox.showinfo('Yayyy','Login Successful')\n",
    "        \n",
    "    else:\n",
    "        messagebox.showerror('Error','Login Failed')\n",
    "\n",
    "screen = Tk()\n",
    "screen.title('Login Form')\n",
    "screen.iconbitmap('favicon.ico')\n",
    "screen.geometry('350x500')\n",
    "\n",
    "screen.configure(background='#0096DC')\n",
    "img = Image.open('./img1.png')\n",
    "resized_img = img.resize((90,90))\n",
    "img = ImageTk.PhotoImage(resized_img)\n",
    "img_label = Label(screen,image=img)\n",
    "img_label.pack(pady=(10,10))\n",
    "text_label = Label(screen,text='EmpowerPy',fg='white',bg='#0096DC')\n",
    "text_label.pack()\n",
    "text_label.config(font=('verdana',24))\n",
    "\n",
    "email_label = Label(screen,text='Enter College Email',fg='white',bg='#0096DC')\n",
    "email_label.pack(pady=(20,5))\n",
    "email_label.config(font=('verdana',12))\n",
    "\n",
    "email_input = Entry(screen,width=50)\n",
    "email_input.pack(ipady=6,pady=(1,15))\n",
    "\n",
    "password_label = Label(screen,text='Enter Password',fg='white',bg='#0096DC')\n",
    "password_label.pack(pady=(20,5))\n",
    "password_label.config(font=('verdana',12))\n",
    "\n",
    "password_input = Entry(screen,width=50)\n",
    "password_input.pack(ipady=6,pady=(1,15))\n",
    "\n",
    "new_btn=PhotoImage(file='./button.png')\n",
    "login_btn = Button(root,image=new_btn,command=handle_login,borderwidth=0,bg='#0096DC')\n",
    "login_btn.pack(pady=(5,10))\n",
    "login_btn.config(font=('verdana',10))\n",
    "screen.mainloop()\n"
   ]
  },
  {
   "cell_type": "code",
   "execution_count": null,
   "id": "91aa5d11-4344-45b5-954b-cc36d0fdafdb",
   "metadata": {},
   "outputs": [],
   "source": []
  }
 ],
 "metadata": {
  "kernelspec": {
   "display_name": "Python 3 (ipykernel)",
   "language": "python",
   "name": "python3"
  },
  "language_info": {
   "codemirror_mode": {
    "name": "ipython",
    "version": 3
   },
   "file_extension": ".py",
   "mimetype": "text/x-python",
   "name": "python",
   "nbconvert_exporter": "python",
   "pygments_lexer": "ipython3",
   "version": "3.11.5"
  }
 },
 "nbformat": 4,
 "nbformat_minor": 5
}
